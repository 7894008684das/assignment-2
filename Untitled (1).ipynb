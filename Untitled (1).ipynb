{
 "cells": [
  {
   "cell_type": "markdown",
   "metadata": {},
   "source": [
    "## 1. Create the below pattern using nested for loop in Python.\n"
   ]
  },
  {
   "cell_type": "code",
   "execution_count": 6,
   "metadata": {},
   "outputs": [
    {
     "name": "stdin",
     "output_type": "stream",
     "text": [
      "enter row : 10\n",
      "symble : *\n"
     ]
    },
    {
     "name": "stdout",
     "output_type": "stream",
     "text": [
      "*\n",
      "**\n",
      "***\n",
      "****\n",
      "*****\n",
      "******\n",
      "*******\n",
      "********\n",
      "*********\n",
      "**********\n",
      "*********\n",
      "********\n",
      "*******\n",
      "******\n",
      "*****\n",
      "****\n",
      "***\n",
      "**\n",
      "*\n"
     ]
    }
   ],
   "source": [
    "while True:\n",
    "    try:\n",
    "        a = int(input('enter row :'))\n",
    "        break\n",
    "    except:\n",
    "        print(\"type a number\")\n",
    "                                         ## this is for error\n",
    "\n",
    "\n",
    "b =  input(\"symble :\")  ##  this is for symble for pattern\n",
    "\n",
    "for i in range(1,a+1):    ##  this is (for loop) thank you  \n",
    "    for g in range(1,i+1):\n",
    "        print(b,end=\"\")\n",
    "    print()\n",
    "for i in range(a,1,-1):\n",
    "    for g in range(i,1,-1):\n",
    "        print(b,end=\"\")\n",
    "    print()"
   ]
  },
  {
   "cell_type": "markdown",
   "metadata": {},
   "source": [
    "## Write a Python program to reverse a word after accepting the input from the user.\n",
    "### Sample Output:"
   ]
  },
  {
   "cell_type": "code",
   "execution_count": 7,
   "metadata": {},
   "outputs": [
    {
     "name": "stdin",
     "output_type": "stream",
     "text": [
      "Enter name : ineuron\n"
     ]
    },
    {
     "name": "stdout",
     "output_type": "stream",
     "text": [
      "input word: ineuron\n",
      "output word: norueni\n"
     ]
    }
   ],
   "source": [
    "name = input(\"Enter name :\")\n",
    "print('input word:',name)\n",
    "print('output word:',name[::-1])\n",
    "    "
   ]
  }
 ],
 "metadata": {
  "kernelspec": {
   "display_name": "Python 3",
   "language": "python",
   "name": "python3"
  },
  "language_info": {
   "codemirror_mode": {
    "name": "ipython",
    "version": 3
   },
   "file_extension": ".py",
   "mimetype": "text/x-python",
   "name": "python",
   "nbconvert_exporter": "python",
   "pygments_lexer": "ipython3",
   "version": "3.8.2"
  }
 },
 "nbformat": 4,
 "nbformat_minor": 4
}
